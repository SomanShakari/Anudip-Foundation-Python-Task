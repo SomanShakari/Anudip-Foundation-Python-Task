{
 "cells": [
  {
   "cell_type": "markdown",
   "id": "841cb5cb-0183-4cd1-8427-2c9e2f1257de",
   "metadata": {},
   "source": [
    "# Batch:ANP-C8360 Lab(Day-2 Python Lab)"
   ]
  },
  {
   "cell_type": "markdown",
   "id": "92567f3c-42a9-4b5e-ae3a-18de886fac47",
   "metadata": {},
   "source": [
    "# 1. Calculate the multiplication and sum of two numbers "
   ]
  },
  {
   "cell_type": "code",
   "execution_count": 2,
   "id": "55bb26f4-e6a9-4343-ad78-a4f352c79bae",
   "metadata": {},
   "outputs": [
    {
     "name": "stdin",
     "output_type": "stream",
     "text": [
      "Enter the first number:  2\n",
      "Enter the second number:  2\n"
     ]
    },
    {
     "name": "stdout",
     "output_type": "stream",
     "text": [
      "Multiplication of 2.0 and 2.0 is: 4.0\n",
      "Sum of 2.0 and 2.0 is: 4.0\n"
     ]
    }
   ],
   "source": [
    "# function to calculate sum and multiplication\n",
    "def calculattion_sum_mul(num1, num2):\n",
    "    multiplication = num1*num2\n",
    "    summation = num1+num2\n",
    "    return multiplication, summation\n",
    "\n",
    "# taking input from user and storing it in the variable\n",
    "number1 = float(input(\"Enter the first number: \"))\n",
    "number2 = float(input(\"Enter the second number: \"))\n",
    "\n",
    "multiplication_result, sum_result = calculattion_sum_mul(number1,number2)\n",
    "\n",
    "# Displaying the result\n",
    "print(f\"Multiplication of {number1} and {number2} is: {multiplication_result}\")\n",
    "print(f\"Sum of {number1} and {number2} is: {sum_result}\")\n"
   ]
  },
  {
   "cell_type": "markdown",
   "id": "64334dfe-62c1-43bb-b783-ab47d39d31a5",
   "metadata": {},
   "source": [
    "# 2. Python program to convert the temperature in degree centigrade to Fahrenheit "
   ]
  },
  {
   "cell_type": "code",
   "execution_count": 3,
   "id": "3c9dd2d9-eeb4-48b2-998c-9b13ea7c99b8",
   "metadata": {},
   "outputs": [
    {
     "name": "stdin",
     "output_type": "stream",
     "text": [
      "Enter temperature in degrees Celsius:  30\n"
     ]
    },
    {
     "name": "stdout",
     "output_type": "stream",
     "text": [
      "30.0 degrees Celsius is equal to 86.0 degrees fahrenheit.\n"
     ]
    }
   ],
   "source": [
    "# function to convert celsius to fahrenheit\n",
    "def convert_celsius_to_fahrenheit(celsius):\n",
    "    fahrenheit = (celsius*9/5)+32\n",
    "    return fahrenheit\n",
    "\n",
    "\n",
    "# taking input temperature in celsius\n",
    "celsius_temperature = float(input(\"Enter temperature in degrees Celsius: \"))\n",
    "\n",
    "fahrenheit_temperature = convert_celsius_to_fahrenheit(celsius_temperature)\n",
    "\n",
    "# Displaying the result\n",
    "print(f\"{celsius_temperature} degrees Celsius is equal to {fahrenheit_temperature} degrees fahrenheit.\")\n",
    "\n"
   ]
  },
  {
   "cell_type": "markdown",
   "id": "8b6969bb-782b-4f3d-9630-7b032ee93085",
   "metadata": {},
   "source": [
    "# 3. Python program to find the area of a triangle whose sides are given"
   ]
  },
  {
   "cell_type": "code",
   "execution_count": 6,
   "id": "ebc84bd1-05b8-475d-b070-19175bb398d1",
   "metadata": {},
   "outputs": [
    {
     "name": "stdin",
     "output_type": "stream",
     "text": [
      " Enter the length of side a:  3\n",
      " Enter the length of side b:  4\n",
      " Enter the length of side c:  5\n"
     ]
    },
    {
     "name": "stdout",
     "output_type": "stream",
     "text": [
      "The area of the traingle i s: 6.0\n"
     ]
    }
   ],
   "source": [
    "import math\n",
    "\n",
    "# function to calculate the area of a traingle \n",
    "def triangle_area(a,b,c):\n",
    "    # semi-perimeter\n",
    "    s=(a + b + c) / 2\n",
    "\n",
    "    # Heron's formula to calculate the area\n",
    "    area = math.sqrt(s*(s-a)*(s-b)*(s-c))\n",
    "    return area\n",
    "\n",
    "# taking input the side of traingle from the user\n",
    "side_a = float(input(\" Enter the length of side a: \"))\n",
    "side_b = float(input(\" Enter the length of side b: \"))\n",
    "side_c = float(input(\" Enter the length of side c: \"))\n",
    "\n",
    "\n",
    "area  = triangle_area(side_a,side_b,side_c)\n",
    "\n",
    "# Displaying the result\n",
    "print(f\"The area of the traingle i s: {area}\")\n"
   ]
  },
  {
   "cell_type": "markdown",
   "id": "2d44e431-6e04-4c41-bb4f-6b680aa7bda4",
   "metadata": {},
   "source": [
    "# 4. Create a python program to Calculate area and perimeter of rectangle."
   ]
  },
  {
   "cell_type": "code",
   "execution_count": null,
   "id": "8a98ae9c-1502-40d8-b639-d7e5c69a552d",
   "metadata": {},
   "outputs": [],
   "source": [
    "# Function to calculate the area and perimeter of a rectangle\n",
    "def calculate_rectangle(length, width):\n",
    "    area = length * width\n",
    "    perimeter = 2 * (length + width)\n",
    "    return area, perimeter\n",
    "\n",
    "# Input length and width of the rectangle\n",
    "length = float(input(\"Enter the length of the rectangle: \"))\n",
    "width = float(input(\"Enter the width of the rectangle: \"))\n",
    "\n",
    "area, perimeter = calculate_rectangle(length, width)\n",
    "\n",
    "# Display the results\n",
    "print(f\"The area of the rectangle is: {area}\")\n",
    "print(f\"The perimeter of the rectangle is: {perimeter}\")\n"
   ]
  },
  {
   "cell_type": "markdown",
   "id": "a80d5aae-8ed6-4da1-890c-90d011d18cb4",
   "metadata": {},
   "source": [
    "# 5. Write a python program to input five numbers and find out their average"
   ]
  },
  {
   "cell_type": "code",
   "execution_count": 7,
   "id": "1b7629e4-8bf6-4f81-901a-f05648f31a30",
   "metadata": {},
   "outputs": [
    {
     "name": "stdin",
     "output_type": "stream",
     "text": [
      "Enter number 1:  1\n",
      "Enter number 2:  2\n",
      "Enter number 3:  3\n",
      "Enter number 4:  4\n",
      "Enter number 5:  55\n"
     ]
    },
    {
     "name": "stdout",
     "output_type": "stream",
     "text": [
      "The average of the numbers [1.0, 2.0, 3.0, 4.0, 55.0] is: 13.0\n"
     ]
    }
   ],
   "source": [
    "# Function to calculate the average of five numbers\n",
    "def calculate_average(numbers):\n",
    "    total = sum(numbers)\n",
    "    average = total / len(numbers)\n",
    "    return average\n",
    "\n",
    "# Input five numbers from the user\n",
    "numbers = []\n",
    "for i in range(5):\n",
    "    number = float(input(f\"Enter number {i+1}: \"))\n",
    "    numbers.append(number)\n",
    "\n",
    "average = calculate_average(numbers)\n",
    "\n",
    "# Display the result\n",
    "print(f\"The average of the numbers {numbers} is: {average}\")\n"
   ]
  },
  {
   "cell_type": "code",
   "execution_count": null,
   "id": "91698335-b916-4b37-aeb3-bbcc472e09ae",
   "metadata": {},
   "outputs": [],
   "source": []
  },
  {
   "cell_type": "code",
   "execution_count": null,
   "id": "6408a22c-8f36-43d5-90aa-0356d6753fa4",
   "metadata": {},
   "outputs": [],
   "source": []
  }
 ],
 "metadata": {
  "kernelspec": {
   "display_name": "Python 3 (ipykernel)",
   "language": "python",
   "name": "python3"
  },
  "language_info": {
   "codemirror_mode": {
    "name": "ipython",
    "version": 3
   },
   "file_extension": ".py",
   "mimetype": "text/x-python",
   "name": "python",
   "nbconvert_exporter": "python",
   "pygments_lexer": "ipython3",
   "version": "3.13.0"
  }
 },
 "nbformat": 4,
 "nbformat_minor": 5
}
