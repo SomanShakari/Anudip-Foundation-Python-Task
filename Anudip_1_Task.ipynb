{
 "cells": [
  {
   "cell_type": "markdown",
   "id": "aec441ea-3520-4038-9ecd-9792c18c2090",
   "metadata": {},
   "source": [
    "# 1. Write a program in python to calculate simple interest.\n"
   ]
  },
  {
   "cell_type": "code",
   "execution_count": 11,
   "id": "576d50d8-6029-4798-be9e-0ca677e34efe",
   "metadata": {},
   "outputs": [
    {
     "name": "stdin",
     "output_type": "stream",
     "text": [
      "Enter the principal amount:  500\n",
      "Enter the rate of interest (in %):  100\n",
      "Enter the time period (in years):  300\n"
     ]
    },
    {
     "name": "stdout",
     "output_type": "stream",
     "text": [
      "The Simple Interest is: 150000.0\n"
     ]
    }
   ],
   "source": [
    "def calculate_simple_interest(principal, rate, time):\n",
    "    interest = (principal * rate * time) / 100\n",
    "    return interest\n",
    "\n",
    "principal = float(input(\"Enter the principal amount: \"))\n",
    "rate      = float(input(\"Enter the rate of interest (in %): \"))\n",
    "time      = float(input(\"Enter the time period (in years): \"))\n",
    "\n",
    "interest = calculate_simple_interest(principal, rate, time)\n",
    "\n",
    "print(f\"The Simple Interest is: {interest}\")\n"
   ]
  },
  {
   "cell_type": "markdown",
   "id": "fed3d123-e69b-4a3b-adef-6fdb5fbdcc28",
   "metadata": {},
   "source": [
    "# 2. Write a program to calculate compound interest."
   ]
  },
  {
   "cell_type": "code",
   "execution_count": 14,
   "id": "9fdc9596-199e-4df9-848d-7a725e1e7ef5",
   "metadata": {},
   "outputs": [
    {
     "name": "stdin",
     "output_type": "stream",
     "text": [
      "Enter the principal amount:  1000\n",
      "Enter the rate of interest (in %):  5\n",
      "Enter the time period (in years):  3\n",
      "Enter the number of times interest is compounded per year:  4\n"
     ]
    },
    {
     "name": "stdout",
     "output_type": "stream",
     "text": [
      "Compound Interest: 160.75\n",
      "Total Amount (Principal + Interest): 1160.75\n"
     ]
    }
   ],
   "source": [
    "def calculate_compound_interest(principal, rate, time, n):\n",
    "   \n",
    "    amount            = principal * (1 + rate / (n * 100)) ** (n * time)\n",
    "    compound_interest = amount - principal\n",
    "    return compound_interest, amount\n",
    "\n",
    "principal = float(input(\"Enter the principal amount: \"))\n",
    "rate = float(input(\"Enter the rate of interest (in %): \"))\n",
    "time = float(input(\"Enter the time period (in years): \"))\n",
    "n = int(input(\"Enter the number of times interest is compounded per year: \"))\n",
    "\n",
    "compound_interest, amount = calculate_compound_interest(principal, rate, time, n)\n",
    "\n",
    "print(f\"Compound Interest: {compound_interest:.2f}\")\n",
    "print(f\"Total Amount (Principal + Interest): {amount:.2f}\")\n"
   ]
  },
  {
   "cell_type": "markdown",
   "id": "66b0147f-f842-4d72-aeb4-d19b1d287b27",
   "metadata": {},
   "source": [
    "# 3. write a program to input cost price of item and apply 20% discount on it and print the total price.\n"
   ]
  },
  {
   "cell_type": "code",
   "execution_count": 17,
   "id": "cb4fea2e-a46e-4081-a6d7-4f210b4cb617",
   "metadata": {},
   "outputs": [
    {
     "name": "stdin",
     "output_type": "stream",
     "text": [
      "Enter the cost price of the item:  500\n"
     ]
    },
    {
     "name": "stdout",
     "output_type": "stream",
     "text": [
      "The total price after applying a 20% discount is: 400.00\n"
     ]
    }
   ],
   "source": [
    "def apply_discount(cost_price, discount_rate):\n",
    "    discount = (discount_rate / 100) * cost_price\n",
    "    total_price = cost_price - discount\n",
    "    return total_price\n",
    "\n",
    "cost_price = float(input(\"Enter the cost price of the item: \"))\n",
    "discount_rate = 20  \n",
    "total_price = apply_discount(cost_price, discount_rate)\n",
    "\n",
    "print(f\"The total price after applying a {discount_rate}% discount is: {total_price:.2f}\")\n"
   ]
  },
  {
   "cell_type": "markdown",
   "id": "7573f9cd-3ed3-4438-92c2-ee0965bb7e73",
   "metadata": {},
   "source": [
    "# 4.write a program to input temperature in celcius and convert it in fahrenhyte."
   ]
  },
  {
   "cell_type": "code",
   "execution_count": 20,
   "id": "47e1d0b7-10df-47c7-99ee-c173c1d5aeda",
   "metadata": {},
   "outputs": [
    {
     "name": "stdin",
     "output_type": "stream",
     "text": [
      "Enter temperature in Celsius:  25\n"
     ]
    },
    {
     "name": "stdout",
     "output_type": "stream",
     "text": [
      "The temperature in Fahrenheit is: 77.00\n"
     ]
    }
   ],
   "source": [
    "def celsius_to_fahrenheit(celsius):\n",
    "    fahrenheit = (celsius * 9/5) + 32\n",
    "    return fahrenheit\n",
    "\n",
    "celsius = float(input(\"Enter temperature in Celsius: \"))\n",
    "\n",
    "fahrenheit = celsius_to_fahrenheit(celsius)\n",
    "\n",
    "print(f\"The temperature in Fahrenheit is: {fahrenheit:.2f}\")\n"
   ]
  },
  {
   "cell_type": "code",
   "execution_count": null,
   "id": "04bc9926-b236-4d22-b6cc-66750ffcc8a0",
   "metadata": {},
   "outputs": [],
   "source": []
  }
 ],
 "metadata": {
  "kernelspec": {
   "display_name": "Python 3 (ipykernel)",
   "language": "python",
   "name": "python3"
  },
  "language_info": {
   "codemirror_mode": {
    "name": "ipython",
    "version": 3
   },
   "file_extension": ".py",
   "mimetype": "text/x-python",
   "name": "python",
   "nbconvert_exporter": "python",
   "pygments_lexer": "ipython3",
   "version": "3.12.7"
  }
 },
 "nbformat": 4,
 "nbformat_minor": 5
}
